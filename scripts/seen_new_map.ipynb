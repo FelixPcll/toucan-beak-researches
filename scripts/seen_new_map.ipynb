{
 "cells": [
  {
   "cell_type": "code",
   "execution_count": 1,
   "metadata": {},
   "outputs": [],
   "source": [
    "%matplotlib qt5\n",
    "\n",
    "from tqdm import tqdm_notebook as tqdm\n",
    "import tifffile as tif\n",
    "import numpy as np\n",
    "import pickle as pk\n",
    "import matplotlib.pyplot as plt\n",
    "import matplotlib.cm as cm\n",
    "import matplotlib as mpl\n",
    "import networkx as nx\n",
    "from mpl_toolkits.mplot3d import Axes3D"
   ]
  },
  {
   "cell_type": "code",
   "execution_count": 2,
   "metadata": {},
   "outputs": [],
   "source": [
    "G = nx.read_gpickle('../data/net/net_nx_cart_cust.gexf')"
   ]
  },
  {
   "cell_type": "code",
   "execution_count": 3,
   "metadata": {},
   "outputs": [],
   "source": [
    "c_pos = nx.get_node_attributes(G, 'c_pos')\n",
    "n_pos = nx.get_node_attributes(G, 'n_pos')"
   ]
  },
  {
   "cell_type": "code",
   "execution_count": 4,
   "metadata": {},
   "outputs": [],
   "source": [
    "c_pos_list = [list(v) for k, v in c_pos.items()]\n",
    "n_pos_list = [list(v) for k, v in n_pos.items()]"
   ]
  },
  {
   "cell_type": "code",
   "execution_count": 5,
   "metadata": {},
   "outputs": [],
   "source": [
    "c_pos_list = np.array(c_pos_list)\n",
    "n_pos_list = np.array(n_pos_list)"
   ]
  },
  {
   "cell_type": "code",
   "execution_count": 6,
   "metadata": {},
   "outputs": [],
   "source": [
    "# nx.draw_networkx(G, pos=c_pos, node_size=0.7, cmap=c_map, node_color=n_pos_list[:,0])\n",
    "# plt.show()"
   ]
  },
  {
   "cell_type": "code",
   "execution_count": null,
   "metadata": {},
   "outputs": [],
   "source": []
  },
  {
   "cell_type": "code",
   "execution_count": 23,
   "metadata": {},
   "outputs": [],
   "source": [
    "middle = (c_pos_list.max(axis=0)/2).astype(int)\n",
    "\n",
    "middle_coeff = np.array([middle.max()-middle[0],\n",
    "                         middle.max()-middle[1],\n",
    "                         middle.max()-middle[2]])\n",
    "\n",
    "c_mid_pos = c_pos_list + middle_coeff"
   ]
  },
  {
   "cell_type": "markdown",
   "metadata": {},
   "source": [
    "# Try Print"
   ]
  },
  {
   "cell_type": "code",
   "execution_count": 7,
   "metadata": {},
   "outputs": [],
   "source": [
    "def print_3d(pos, cs):\n",
    "    c_map = plt.get_cmap('viridis')\n",
    "    cNorm = mpl.colors.Normalize(vmin=min(cs), vmax=max(cs))\n",
    "    scalarMap = cm.ScalarMappable(norm=cNorm, cmap=c_map)\n",
    "    fig = plt.figure()\n",
    "    ax = Axes3D(fig)\n",
    "    ax.scatter(pos[:,1], pos[:,2], pos[:,0], c=scalarMap.to_rgba(cs), s=50)\n",
    "    \n",
    "    \n",
    "    ax.autoscale(False)\n",
    "    ax.set_autoscale_on(False)\n",
    "    ax.set_autoscalez_on(False)\n",
    "    \n",
    "    z_lin = ax.get_zlim()\n",
    "    ax.set_xlim(z_lin)\n",
    "    ax.set_ylim(z_lin)\n",
    "    \n",
    "    # ax.set_zlim((0, 5))\n",
    "    \n",
    "    scalarMap.set_array(cs)\n",
    "    fig.colorbar(scalarMap)\n",
    "    plt.show()"
   ]
  },
  {
   "cell_type": "code",
   "execution_count": 38,
   "metadata": {},
   "outputs": [],
   "source": [
    "print_3d(c_mid_pos, n_pos_list[:, 0])"
   ]
  }
 ],
 "metadata": {
  "kernelspec": {
   "display_name": "Python 3",
   "language": "python",
   "name": "python3"
  },
  "language_info": {
   "codemirror_mode": {
    "name": "ipython",
    "version": 3
   },
   "file_extension": ".py",
   "mimetype": "text/x-python",
   "name": "python",
   "nbconvert_exporter": "python",
   "pygments_lexer": "ipython3",
   "version": "3.6.5"
  }
 },
 "nbformat": 4,
 "nbformat_minor": 2
}
