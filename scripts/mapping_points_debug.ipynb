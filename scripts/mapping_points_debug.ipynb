{
 "cells": [
  {
   "cell_type": "code",
   "execution_count": 2,
   "metadata": {},
   "outputs": [],
   "source": [
    "from tqdm import tqdm_notebook as tqdm\n",
    "import sys\n",
    "import scipy.interpolate as interpol\n",
    "import scipy.ndimage.filters as fil\n",
    "import scipy.ndimage.measurements as me\n",
    "import scipy.ndimage as nd\n",
    "import tifffile\n",
    "import numpy as np\n",
    "import pickle"
   ]
  },
  {
   "cell_type": "markdown",
   "metadata": {},
   "source": [
    "# SETTING FUNCTIONS"
   ]
  },
  {
   "cell_type": "code",
   "execution_count": 2,
   "metadata": {},
   "outputs": [],
   "source": [
    "def rotate_matrix(angle, v):\n",
    "\n",
    "    ux = v[0]\n",
    "    uy = v[1]\n",
    "    uz = v[2]\n",
    "    cos = np.cos(angle)\n",
    "    sin = np.sin(angle)\n",
    "    cos_1 = 1-cos\n",
    "\n",
    "    M = np.array([[cos+ux*ux*cos_1, ux*uy*cos_1-uz*sin, ux*uz*cos_1+uy*sin],\n",
    "                  [uy*ux*cos_1+uz*sin, cos+uy*uy*cos_1, uy*uz*cos_1-ux*sin],\n",
    "                  [uz*ux*cos_1-uy*sin, uz*uy*cos_1+ux*sin, cos+uz*uz*cos_1]])\n",
    "\n",
    "    return M"
   ]
  },
  {
   "cell_type": "code",
   "execution_count": 3,
   "metadata": {},
   "outputs": [],
   "source": [
    "def orthogonal_vectors(vector):\n",
    "    '''Get versors that are orthogonal to vet'''\n",
    "    if vector[0] != 0:\n",
    "        b2 = 1.\n",
    "        c2 = 0.  # 1.\n",
    "        a2 = -vector[1]*b2/vector[0]\n",
    "\n",
    "        e1 = np.array([a2, b2, c2])\n",
    "        e2 = np.cross(vector, e1)\n",
    "    else:\n",
    "        a2 = 1.\n",
    "        b2 = 0.\n",
    "        c2 = 0.\n",
    "\n",
    "        e1 = np.array([a2, b2, c2])\n",
    "        e2 = np.cross(vector, e1)\n",
    "\n",
    "    e1 = e1/np.sqrt(e1[0]**2+e1[1]**2+e1[2]**2)\n",
    "    e2 = e2/np.sqrt(e2[0]**2+e2[1]**2+e2[2]**2)\n",
    "\n",
    "    return e1, e2"
   ]
  },
  {
   "cell_type": "code",
   "execution_count": 4,
   "metadata": {},
   "outputs": [],
   "source": [
    "def create_isoplane(dict_distance, dict_midline, dict_angle, image_mask):\n",
    "    \"\"\"Images for visualization proposes\n",
    "    \"\"\"\n",
    "\n",
    "    image_iso_distance = (100*dict_distance).astype(np.uint8)\n",
    "    max_dist = np.max(list(dict_distance.keys()))\n",
    "    for i in range(20, max_dist):\n",
    "        if (i-20) % 30 == 0:\n",
    "            image_iso_distance[dict_distance[i]] = 255\n",
    "\n",
    "    image_iso_mid = (100*image_mask).astype(np.uint8)\n",
    "    max_mid = np.max(list(dict_midline.keys()))\n",
    "    for i in range(1, max_mid):\n",
    "        if i % 50 == 0:\n",
    "            image_iso_mid[dict_midline[i]] == 255\n",
    "\n",
    "    image_iso_angle = (100*image_mask).astype(np.uint8)\n",
    "    max_angle = np.max(list(dict_angle.keys()))\n",
    "    for i in range(1, max_angle):\n",
    "        if i % 20 == 0:\n",
    "            image_iso_angle[dict_angle[i]] == 255\n",
    "\n",
    "    tifffile.imsave('image_iso_distance.tif', image_iso_distance)\n",
    "    tifffile.imsave('image_iso_mid.tif', image_iso_mid)\n",
    "    tifffile.imsave('image_iso_angle.tif', image_iso_angle)"
   ]
  },
  {
   "cell_type": "code",
   "execution_count": 5,
   "metadata": {},
   "outputs": [],
   "source": [
    "def dist_to_plane(point, plane):\n",
    "    \"\"\"Finds distance to point to plane\n",
    "    \"\"\"\n",
    "\n",
    "    p_plane = plane[0]\n",
    "    v_plane = plane[1]\n",
    "\n",
    "    dist = np.absolute([v_plane[1]*(point[1]-p_plane[1]) +\n",
    "                        v_plane[2]*(point[2]-p_plane[2]) +\n",
    "                        v_plane[0]*(point[0]-p_plane[0])\n",
    "                        ])[0]/np.linalg.norm(v_plane)\n",
    "\n",
    "    return dist\n"
   ]
  },
  {
   "cell_type": "markdown",
   "metadata": {},
   "source": [
    "# LOADING FILES/SETTING CONSTANTS"
   ]
  },
  {
   "cell_type": "code",
   "execution_count": 3,
   "metadata": {},
   "outputs": [],
   "source": [
    "PLANE_SIZE = 750\n",
    "\n",
    "IMAGE_MASK = pickle.load(open('../data/masks/mask_full_beak.dat', 'rb'))\n",
    "NODE_MASK = pickle.load(open('../data/masks/mask_nodes.dat', 'rb'))\n",
    "\n",
    "SIZE_Z, SIZE_X, SIZE_Y = IMAGE_MASK.shape"
   ]
  },
  {
   "cell_type": "markdown",
   "metadata": {},
   "source": [
    "# MAIN PROCESSING"
   ]
  },
  {
   "cell_type": "markdown",
   "metadata": {},
   "source": [
    "## Creating Distance Dicts"
   ]
  },
  {
   "cell_type": "code",
   "execution_count": 7,
   "metadata": {},
   "outputs": [
    {
     "data": {
      "application/vnd.jupyter.widget-view+json": {
       "model_id": "638dd73a9e454475b4205b6e2ffe2758",
       "version_major": 2,
       "version_minor": 0
      },
      "text/plain": [
       "HBox(children=(IntProgress(value=0, description='Distance Dict', max=909), HTML(value='')))"
      ]
     },
     "metadata": {},
     "output_type": "display_data"
    },
    {
     "name": "stdout",
     "output_type": "stream",
     "text": [
      "\n"
     ]
    }
   ],
   "source": [
    "#img_mask_padded = np.pad(IMAGE_MASK, ((200, 0), (0, 0), (0, 0)), mode='constant', constant_values=True)\n",
    "\n",
    "image_distance = nd.distance_transform_cdt(IMAGE_MASK)\n",
    "distance_dict = {}\n",
    "already_added = []\n",
    "for i in tqdm(range(image_distance.shape[0]), desc='Distance Dict'):\n",
    "    for j in range(image_distance.shape[1]):\n",
    "        for k in range(image_distance.shape[2]):\n",
    "\n",
    "            d = image_distance[i, j, k]\n",
    "            \n",
    "            if d != 0:\n",
    "                if d in distance_dict:\n",
    "                    distance_dict[d].extend([(i, j, k)])\n",
    "                else:\n",
    "                    distance_dict[d] = [(i, j, k)]\n",
    "\n",
    "                image_distance[i, j, k] = 0"
   ]
  },
  {
   "cell_type": "markdown",
   "metadata": {},
   "source": [
    "## Creating Middle Line"
   ]
  },
  {
   "cell_type": "code",
   "execution_count": 8,
   "metadata": {},
   "outputs": [
    {
     "data": {
      "application/vnd.jupyter.widget-view+json": {
       "model_id": "e002975e2da841cebc80b15421bc9816",
       "version_major": 2,
       "version_minor": 0
      },
      "text/plain": [
       "HBox(children=(IntProgress(value=0, description='Middle Line', max=909), HTML(value='')))"
      ]
     },
     "metadata": {},
     "output_type": "display_data"
    },
    {
     "name": "stdout",
     "output_type": "stream",
     "text": [
      "\n"
     ]
    }
   ],
   "source": [
    "center = np.zeros((IMAGE_MASK.shape[0], 3))\n",
    "for i in tqdm(range(IMAGE_MASK.shape[0]), desc='Middle Line'):\n",
    "\n",
    "    center[i, 0] = i\n",
    "    C = nd.center_of_mass(IMAGE_MASK[i], IMAGE_MASK[i], 1)\n",
    "\n",
    "    center[i, 1:] = C\n",
    "\n",
    "z = center[:, 0]\n",
    "x = center[:, 1]\n",
    "y = center[:, 2]\n",
    "w = np.ones(x.size)\n",
    "w[0] = 1e4\n",
    "w[-1] = 1e4\n",
    "\n",
    "i_x = interpol.UnivariateSpline(z, x, w=w, k=3, s=1e5)\n",
    "i_y = interpol.UnivariateSpline(z, y, w=w, k=3, s=1e5)\n",
    "\n",
    "seg_smooth = np.zeros([z.size, 3])\n",
    "seg_smooth[:, 0] = z\n",
    "seg_smooth[:, 1] = i_x(z)\n",
    "seg_smooth[:, 2] = i_y(z)"
   ]
  },
  {
   "cell_type": "markdown",
   "metadata": {},
   "source": [
    "## Creating Planes and Angles"
   ]
  },
  {
   "cell_type": "code",
   "execution_count": 9,
   "metadata": {},
   "outputs": [
    {
     "data": {
      "application/vnd.jupyter.widget-view+json": {
       "model_id": "c3814d92d5914a478b94a60979d2c396",
       "version_major": 2,
       "version_minor": 0
      },
      "text/plain": [
       "HBox(children=(IntProgress(value=0, max=908), HTML(value='')))"
      ]
     },
     "metadata": {},
     "output_type": "display_data"
    },
    {
     "name": "stdout",
     "output_type": "stream",
     "text": [
      "\n"
     ]
    }
   ],
   "source": [
    "mat_plane = np.zeros(\n",
    "    [len(seg_smooth)-1, PLANE_SIZE, PLANE_SIZE],\n",
    "    dtype=np.uint8\n",
    ")\n",
    "\n",
    "mat_show = (100*IMAGE_MASK).astype(np.uint8)\n",
    "\n",
    "midline_dict = {}\n",
    "angle_dict = {}\n",
    "plane_dict = {}\n",
    "\n",
    "\n",
    "for j in tqdm(range(len(seg_smooth) - 1)):\n",
    "\n",
    "    tan_vet = seg_smooth[j+1]-seg_smooth[j]\n",
    "    tan_vet = tan_vet/np.sqrt(tan_vet[0]**2 + tan_vet[1]**2 + tan_vet[2]**2)\n",
    "\n",
    "    if j == 0:\n",
    "        e1, e2 = orthogonal_vectors(tan_vet)\n",
    "        en = tan_vet\n",
    "    else:\n",
    "        ref_vec = np.cross(old_tan_vet, tan_vet)\n",
    "        mag = np.linalg.norm(ref_vec)\n",
    "\n",
    "        if mag > 1e-7:\n",
    "            ref_vec = ref_vec/mag\n",
    "\n",
    "            cos_angle = np.inner(\n",
    "                tan_vet, old_tan_vet)/(np.linalg.norm(tan_vet)*np.linalg.norm(old_tan_vet))\n",
    "            angle = np.arccos(cos_angle)\n",
    "            M = rotate_matrix(angle, ref_vec)\n",
    "\n",
    "            e1 = np.dot(M, e1)\n",
    "            e2 = np.cross(tan_vet, e1)\n",
    "\n",
    "            en = np.cross(e1, e2)\n",
    "        else:\n",
    "            pass\n",
    "\n",
    "    old_tan_vet = tan_vet.copy()\n",
    "\n",
    "    R_linha = -(PLANE_SIZE/2.)*e1 - (PLANE_SIZE/2.)*e2\n",
    "    R = seg_smooth[j]\n",
    "\n",
    "    plane_dict[j] = np.array([R, en])\n",
    "\n",
    "    plane = np.zeros([PLANE_SIZE, PLANE_SIZE], dtype=np.uint8)\n",
    "\n",
    "    Y_plane, X_plane = np.meshgrid(range(PLANE_SIZE), range(PLANE_SIZE))\n",
    "\n",
    "    Y_plane = Y_plane.ravel()\n",
    "    X_plane = X_plane.ravel()\n",
    "\n",
    "    Z = R[0] + R_linha[0] + Y_plane*e1[0] + X_plane*e2[0]\n",
    "    X = R[1] + R_linha[1] + Y_plane*e1[1] + X_plane*e2[1]\n",
    "    Y = R[2] + R_linha[2] + Y_plane*e1[2] + X_plane*e2[2]\n",
    "\n",
    "    Z_int = np.round(Z).astype(np.int)\n",
    "    X_int = np.round(X).astype(np.int)\n",
    "    Y_int = np.round(Y).astype(np.int)\n",
    "\n",
    "    ind = np.nonzero((Z_int >= 0) & (X_int >= 0) & (Y_int >= 0) & (\n",
    "        Z_int < SIZE_Z) & (X_int < SIZE_X) & (Y_int < SIZE_Y))\n",
    "\n",
    "    Y_plane_inside = Y_plane[ind]\n",
    "    X_plane_inside = X_plane[ind]\n",
    "\n",
    "    Z_int_inside = Z_int[ind]\n",
    "    X_int_inside = X_int[ind]\n",
    "    Y_int_inside = Y_int[ind]\n",
    "\n",
    "    # For visualization purposes\n",
    "    plane[Y_plane_inside, X_plane_inside] = IMAGE_MASK[Z_int_inside,\n",
    "                                                       X_int_inside,\n",
    "                                                       Y_int_inside]\n",
    "\n",
    "    # Get only points that are inside the binary mask\n",
    "    ind_n_zero = np.nonzero(\n",
    "        IMAGE_MASK[Z_int_inside, X_int_inside, Y_int_inside])[0]\n",
    "\n",
    "    Y_plane_nonZero = Y_plane_inside[ind_n_zero]\n",
    "    X_plane_nonZero = X_plane_inside[ind_n_zero]\n",
    "\n",
    "    Z_int_nonZero = Z_int_inside[ind_n_zero]\n",
    "    X_int_nonZero = X_int_inside[ind_n_zero]\n",
    "    Y_int_nonZero = Y_int_inside[ind_n_zero]\n",
    "\n",
    "    \n",
    "    \n",
    "    \n",
    "    # * Get data\n",
    "    plane_dict[j] = [R,\n",
    "                     [en, e1, e2],\n",
    "                     [Z_int_nonZero, X_int_nonZero, Y_int_nonZero]\n",
    "                    ]\n",
    "\n",
    "    \n",
    "    \n",
    "    \n",
    "    # Find angle of each pixel in the plane, convert to integer\n",
    "    dY = Y_plane_nonZero-PLANE_SIZE/2.\n",
    "    dX = X_plane_nonZero-PLANE_SIZE/2.\n",
    "    angles = (np.arctan2(dY, -dX)+np.pi/2.) % (2*np.pi)\n",
    "    anglesInt = np.floor(angles*360/(2*np.pi)).astype(int)\n",
    "\n",
    "    # Used to verify something... which I forgot\n",
    "    plane_angles = np.zeros_like(plane, dtype=np.float)\n",
    "    plane_angles[Y_plane_nonZero, X_plane_nonZero] = anglesInt\n",
    "\n",
    "    midline_dict[j] = [Z_int_nonZero.tolist(), X_int_nonZero.tolist(),\n",
    "                       Y_int_nonZero.tolist()]\n",
    "\n",
    "    for angle in np.unique(anglesInt):\n",
    "        # Get all points that are at a specific angle\n",
    "        indAngle = np.nonzero(anglesInt == angle)\n",
    "        pointsWithAngle = list(\n",
    "            zip(Z_int_nonZero[indAngle], X_int_nonZero[indAngle], Y_int_nonZero[indAngle]))\n",
    "        if angle in angle_dict:\n",
    "            angle_dict[angle].extend(pointsWithAngle)\n",
    "        else:\n",
    "            angle_dict[angle] = pointsWithAngle\n",
    "\n",
    "    #mat_plane_bin[j] = plane_bin.copy()\n",
    "    mat_plane[j] = plane.copy()\n",
    "\n",
    "    # if j%4==0:\n",
    "    mat_show[Z_int[ind], X_int[ind], Y_int[ind]] = 128+(j*20) % 128"
   ]
  },
  {
   "cell_type": "markdown",
   "metadata": {},
   "source": [
    "## Converting Dicts"
   ]
  },
  {
   "cell_type": "markdown",
   "metadata": {},
   "source": [
    "### Angle Dict"
   ]
  },
  {
   "cell_type": "code",
   "execution_count": 10,
   "metadata": {},
   "outputs": [
    {
     "data": {
      "application/vnd.jupyter.widget-view+json": {
       "model_id": "b9b19d308ed24dd788ae24118452af59",
       "version_major": 2,
       "version_minor": 0
      },
      "text/plain": [
       "HBox(children=(IntProgress(value=0, max=360), HTML(value='')))"
      ]
     },
     "metadata": {},
     "output_type": "display_data"
    },
    {
     "name": "stdout",
     "output_type": "stream",
     "text": [
      "\n"
     ]
    }
   ],
   "source": [
    "angle_map = {}\n",
    "angle_check = {}\n",
    "for angle, point_set in tqdm(angle_dict.items()):\n",
    "    for point in point_set:\n",
    "        angle_map[point] = angle\n",
    "        \n",
    "        try:\n",
    "            angle_check[point].append(angle)\n",
    "        except KeyError:\n",
    "            angle_check[point] = [angle]\n",
    "        \n",
    "        # Encontrar uma forma de criar uma lista com os valores de angulo dado"
   ]
  },
  {
   "cell_type": "markdown",
   "metadata": {},
   "source": [
    "### Middle Line Dict"
   ]
  },
  {
   "cell_type": "code",
   "execution_count": 11,
   "metadata": {},
   "outputs": [
    {
     "data": {
      "application/vnd.jupyter.widget-view+json": {
       "model_id": "375719fcc1174cbaa2895b0b83a9fcfe",
       "version_major": 2,
       "version_minor": 0
      },
      "text/plain": [
       "HBox(children=(IntProgress(value=0, max=908), HTML(value='')))"
      ]
     },
     "metadata": {},
     "output_type": "display_data"
    },
    {
     "name": "stdout",
     "output_type": "stream",
     "text": [
      "\n"
     ]
    }
   ],
   "source": [
    "for k in tqdm(midline_dict):\n",
    "    pointSet = set(zip(*midline_dict[k]))\n",
    "    z, x, y = zip(*list(pointSet))\n",
    "    z = np.array(z, dtype=np.uint16)\n",
    "    x = np.array(x, dtype=np.uint16)\n",
    "    y = np.array(y, dtype=np.uint16)\n",
    "    midline_dict[k] = [z, x, y]"
   ]
  },
  {
   "cell_type": "code",
   "execution_count": 12,
   "metadata": {},
   "outputs": [
    {
     "data": {
      "application/vnd.jupyter.widget-view+json": {
       "model_id": "e2a9138de6a1492bb5e2fd424f5418ae",
       "version_major": 2,
       "version_minor": 0
      },
      "text/plain": [
       "HBox(children=(IntProgress(value=0, max=908), HTML(value='')))"
      ]
     },
     "metadata": {},
     "output_type": "display_data"
    },
    {
     "name": "stdout",
     "output_type": "stream",
     "text": [
      "\n"
     ]
    }
   ],
   "source": [
    "midline_map = {}\n",
    "midline_check = {}\n",
    "for pos_key, pos_list in tqdm(midline_dict.items()):\n",
    "    for i in range(pos_list[0].size):\n",
    "        point = (pos_list[0][i], pos_list[1][i], pos_list[2][i])\n",
    "        \n",
    "        midline_map[point] = pos_key\n",
    "        \n",
    "        try:\n",
    "            midline_check[point].append(pos_key)\n",
    "        except KeyError:\n",
    "            midline_check[point] = [pos_key]\n",
    "        \n",
    "        # Encontrar uma forma de criar uma lista com os valores de angulo dado"
   ]
  },
  {
   "cell_type": "markdown",
   "metadata": {},
   "source": [
    "### Distance Dict"
   ]
  },
  {
   "cell_type": "code",
   "execution_count": 13,
   "metadata": {},
   "outputs": [
    {
     "data": {
      "application/vnd.jupyter.widget-view+json": {
       "model_id": "8756c624d26644f1ac60cc889ac4b051",
       "version_major": 2,
       "version_minor": 0
      },
      "text/plain": [
       "HBox(children=(IntProgress(value=0, max=98), HTML(value='')))"
      ]
     },
     "metadata": {},
     "output_type": "display_data"
    },
    {
     "name": "stdout",
     "output_type": "stream",
     "text": [
      "\n"
     ]
    }
   ],
   "source": [
    "distance_map = {}\n",
    "for distance, point_set in tqdm(distance_dict.items()):\n",
    "    for point in point_set:\n",
    "        distance_map[point] = distance"
   ]
  },
  {
   "cell_type": "markdown",
   "metadata": {},
   "source": [
    "# Exploring"
   ]
  },
  {
   "cell_type": "code",
   "execution_count": 14,
   "metadata": {},
   "outputs": [
    {
     "data": {
      "text/plain": [
       "29640401"
      ]
     },
     "execution_count": 14,
     "metadata": {},
     "output_type": "execute_result"
    }
   ],
   "source": [
    "len(angle_map.keys())"
   ]
  },
  {
   "cell_type": "code",
   "execution_count": 15,
   "metadata": {},
   "outputs": [
    {
     "data": {
      "text/plain": [
       "31526175"
      ]
     },
     "execution_count": 15,
     "metadata": {},
     "output_type": "execute_result"
    }
   ],
   "source": [
    "len(distance_map.keys())"
   ]
  },
  {
   "cell_type": "code",
   "execution_count": 16,
   "metadata": {},
   "outputs": [
    {
     "data": {
      "text/plain": [
       "29640401"
      ]
     },
     "execution_count": 16,
     "metadata": {},
     "output_type": "execute_result"
    }
   ],
   "source": [
    "len(midline_map.keys())"
   ]
  },
  {
   "cell_type": "markdown",
   "metadata": {},
   "source": [
    "# Correcting Bugs"
   ]
  },
  {
   "cell_type": "code",
   "execution_count": 17,
   "metadata": {},
   "outputs": [
    {
     "data": {
      "application/vnd.jupyter.widget-view+json": {
       "model_id": "ab1431dfb0204178abd38edc1c30bcf3",
       "version_major": 2,
       "version_minor": 0
      },
      "text/plain": [
       "HBox(children=(IntProgress(value=0, max=909), HTML(value='')))"
      ]
     },
     "metadata": {},
     "output_type": "display_data"
    },
    {
     "ename": "KeyboardInterrupt",
     "evalue": "",
     "output_type": "error",
     "traceback": [
      "\u001b[1;31m---------------------------------------------------------------------------\u001b[0m",
      "\u001b[1;31mKeyboardInterrupt\u001b[0m                         Traceback (most recent call last)",
      "\u001b[1;32m<ipython-input-17-aa186d914877>\u001b[0m in \u001b[0;36m<module>\u001b[1;34m()\u001b[0m\n\u001b[0;32m     25\u001b[0m                     \u001b[0mpoint_y\u001b[0m \u001b[1;33m=\u001b[0m \u001b[0mplane_dict\u001b[0m\u001b[1;33m[\u001b[0m\u001b[0mm_dist\u001b[0m\u001b[1;33m]\u001b[0m\u001b[1;33m[\u001b[0m\u001b[1;36m2\u001b[0m\u001b[1;33m]\u001b[0m\u001b[1;33m[\u001b[0m\u001b[1;36m2\u001b[0m\u001b[1;33m]\u001b[0m\u001b[1;33m[\u001b[0m\u001b[0mn\u001b[0m\u001b[1;33m]\u001b[0m\u001b[1;33m\u001b[0m\u001b[0m\n\u001b[0;32m     26\u001b[0m \u001b[1;33m\u001b[0m\u001b[0m\n\u001b[1;32m---> 27\u001b[1;33m                     \u001b[0mp_comp\u001b[0m \u001b[1;33m=\u001b[0m \u001b[1;33m(\u001b[0m\u001b[0mpoint_z\u001b[0m\u001b[1;33m,\u001b[0m \u001b[0mpoint_x\u001b[0m\u001b[1;33m,\u001b[0m \u001b[0mpoint_y\u001b[0m\u001b[1;33m)\u001b[0m\u001b[1;33m\u001b[0m\u001b[0m\n\u001b[0m\u001b[0;32m     28\u001b[0m \u001b[1;33m\u001b[0m\u001b[0m\n\u001b[0;32m     29\u001b[0m                     d = np.sqrt((p_anal[0] - p_comp[0])**2 +\n",
      "\u001b[1;31mKeyboardInterrupt\u001b[0m: "
     ]
    }
   ],
   "source": [
    "for i in tqdm(range(image_distance.shape[0])):\n",
    "    for j in range(image_distance.shape[1]):\n",
    "        for k in range(image_distance.shape[2]):\n",
    "            if NODE_MASK[i, j, k]:\n",
    "                p_anal = (i, j, k)\n",
    "                d_array = []\n",
    "                d_dict = {}\n",
    "\n",
    "                for key, a in plane_dict.items():\n",
    "                    [R, [en, e1, e2], [z_p, x_p, y_p]] = a\n",
    "\n",
    "                    d = dist_to_plane(p_anal, [R, en])\n",
    "\n",
    "                    d_array.append(d)\n",
    "                    d_dict[d] = key\n",
    "\n",
    "                m_dist = d_dict[min(d_array)]\n",
    "\n",
    "\n",
    "                p_array = []\n",
    "                p_dict = {}\n",
    "                for n in range(plane_dict[m_dist][2][0].size):\n",
    "                    point_z = plane_dict[m_dist][2][0][n]\n",
    "                    point_x = plane_dict[m_dist][2][1][n]\n",
    "                    point_y = plane_dict[m_dist][2][2][n]\n",
    "\n",
    "                    p_comp = (point_z, point_x, point_y)\n",
    "\n",
    "                    d = np.sqrt((p_anal[0] - p_comp[0])**2 +\n",
    "                                (p_anal[1] - p_comp[1])**2 +\n",
    "                                (p_anal[2] - p_comp[2])**2)\n",
    "\n",
    "                    p_array.append(d)\n",
    "                    p_dict[d] = p_comp\n",
    "\n",
    "                p_copy = p_dict[min(p_array)]\n",
    "\n",
    "                angle_map[p_anal] = angle_map[p_copy]\n",
    "                midline_map[p_anal] = midline_map[p_copy]"
   ]
  },
  {
   "cell_type": "markdown",
   "metadata": {},
   "source": [
    "# Processing Results"
   ]
  },
  {
   "cell_type": "code",
   "execution_count": null,
   "metadata": {},
   "outputs": [],
   "source": [
    "final_map = {}\n",
    "for i in tqdm(range(image_distance.shape[0])):\n",
    "    for j in range(image_distance.shape[1]):\n",
    "        for k in range(image_distance.shape[2]):\n",
    "            if NODE_MASK[i, j, k]:\n",
    "                p = (i, j, k)\n",
    "\n",
    "                final_map[p] = (\n",
    "                    midline_map[p],\n",
    "                    distance_map[p],\n",
    "                    angle_map[p]\n",
    "                )"
   ]
  },
  {
   "cell_type": "markdown",
   "metadata": {},
   "source": [
    "# Saving Results"
   ]
  },
  {
   "cell_type": "code",
   "execution_count": null,
   "metadata": {},
   "outputs": [],
   "source": [
    "# with open('../data/map/z-x-y_to_m-d-a.dat', 'wb') as f:\n",
    "#     pickle.dump(final_map, f)"
   ]
  },
  {
   "cell_type": "markdown",
   "metadata": {},
   "source": [
    "# Exploring"
   ]
  },
  {
   "cell_type": "code",
   "execution_count": null,
   "metadata": {},
   "outputs": [],
   "source": [
    "angle_check"
   ]
  },
  {
   "cell_type": "code",
   "execution_count": null,
   "metadata": {},
   "outputs": [],
   "source": [
    "np.std(np.array([v for k, v in midline_check.items()]))"
   ]
  },
  {
   "cell_type": "code",
   "execution_count": 5,
   "metadata": {
    "scrolled": true
   },
   "outputs": [],
   "source": [
    "image_distance = nd.distance_transform_cdt(IMAGE_MASK)"
   ]
  },
  {
   "cell_type": "code",
   "execution_count": 9,
   "metadata": {},
   "outputs": [
    {
     "data": {
      "text/plain": [
       "<matplotlib.image.AxesImage at 0x24a00e3e5c0>"
      ]
     },
     "execution_count": 9,
     "metadata": {},
     "output_type": "execute_result"
    },
    {
     "data": {
      "image/png": "[encoded data removed]",
      "text/plain": [
       "<Figure size 432x288 with 1 Axes>"
      ]
     },
     "metadata": {},
     "output_type": "display_data"
    }
   ],
   "source": [
    "import matplotlib.pyplot as plt\n",
    "\n",
    "plt.imshow(image_distance[0])"
   ]
  }
 ],
 "metadata": {
  "kernelspec": {
   "display_name": "Python 3",
   "language": "python",
   "name": "python3"
  },
  "language_info": {
   "codemirror_mode": {
    "name": "ipython",
    "version": 3
   },
   "file_extension": ".py",
   "mimetype": "text/x-python",
   "name": "python",
   "nbconvert_exporter": "python",
   "pygments_lexer": "ipython3",
   "version": "3.6.5"
  }
 },
 "nbformat": 4,
 "nbformat_minor": 2
}
